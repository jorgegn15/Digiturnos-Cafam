{
 "cells": [
  {
   "cell_type": "code",
   "execution_count": 21,
   "metadata": {},
   "outputs": [],
   "source": [
    "import time\n",
    "from selenium import webdriver\n",
    "from selenium.webdriver.edge.service import Service\n",
    "from selenium.webdriver.common.by import By\n",
    "from selenium.webdriver.support.wait import WebDriverWait\n",
    "from selenium.webdriver.support import expected_conditions as EC\n",
    "import pandas as pd\n",
    "import os\n",
    "from selenium.webdriver import EdgeOptions\n"
   ]
  },
  {
   "cell_type": "code",
   "execution_count": 22,
   "metadata": {},
   "outputs": [],
   "source": [
    "options = EdgeOptions()\n",
    "options.set_capability(\"ie.forceCreateProcessApi\", True)\n",
    "options.set_capability(\"ie.browserCommandLineSwitches\", \"-private\")\n",
    "options.set_capability(\"ie.usePerProcessProxy\", True)"
   ]
  },
  {
   "cell_type": "code",
   "execution_count": 13,
   "metadata": {},
   "outputs": [],
   "source": [
    "s = Service(\"C:\\webdrivers\\msedgedriver.exe\")\n",
    "driver = webdriver.Edge(service=s,options=options)\n",
    "driver.maximize_window()\n",
    "from datetime import datetime\n",
    "fecha = datetime.today().strftime('%d-%m-%y')\n",
    "hora_actual = datetime.now().strftime('%H-%M')"
   ]
  },
  {
   "cell_type": "code",
   "execution_count": 14,
   "metadata": {},
   "outputs": [],
   "source": [
    "nombre_punto = []\n",
    "datos_caja_rapida = []\n",
    "datos_caja_preferencial = []\n",
    "datos_caja_general = []\n",
    "atencion = []\n",
    "pro_espera = []\n",
    "pro_atencion = []\n",
    "array = []\n",
    "contador = 1\n"
   ]
  },
  {
   "attachments": {},
   "cell_type": "markdown",
   "metadata": {},
   "source": [
    "'MADRID ':'http://stwmedmadrid/webturnos/principal.htm',\n",
    "'Bucaramanga San Alonso':'http://172.26.158.16/webturnos/principal.htm',\n",
    "'B/quilla calle 72':'http://172.26.181.15/webturnos/principal.htm',"
   ]
  },
  {
   "cell_type": "code",
   "execution_count": 15,
   "metadata": {},
   "outputs": [],
   "source": [
    "paginas2 = {'RESTREPO': 'http://172.25.76.16/webturnos/principal.htm',\n",
    "            'Granada Hills':'http://172.25.68.16/webturnos/principal.htm',\n",
    "           'NODRIZA FLORESTA': 'http://172.19.209.34/webturnos/principal.htm',\n",
    "           'MADRID ': 'http://stwmedmadrid/webturnos/principal.htm',\n",
    "           'EL LAGO':'http://172.26.88.16/webturnos/principal.htm',\n",
    "           'Bucaramanga San Alonso': 'http://172.26.158.17/webturnos/principal.htm',\n",
    "           'NUEVO KENNEDY': 'http://stwmedkennedy/webturnos/principal.htm',\n",
    "           'CENTENARIO': 'http://172.25.97.16/webturnos/principal.htm',\n",
    "           'BARRIOS UNIDOS': 'http://172.26.6.16/webturnos/principal.htm',\n",
    "           'CHIA': 'http://172.26.143.16/webturnos/principal.htm',\n",
    "           'C/gena El Prado': 'http://172.26.152.17/webturnos/principal.htm',\n",
    "           'B/quilla C.C. Bahia': 'http://172.26.145.225/webturnos/principal.htm',\n",
    "           'Santa Monica-Plazuela': 'http://172.26.151.16/webturnos/principal.htm',\n",
    "           'B/quilla calle 72': 'http://172.26.181.15/webturnos/principal.htm',\n",
    "           'C/gena Manga': 'http://172.26.163.17/webturnos/principal.htm',\n",
    "           'B/quilla San Jose': 'http://172.26.148.16/webturnos/principal.htm',\n",
    "           'B/quilla Centro (Panorama)': 'http://172.26.147.17/webturnos/principal.htm',\n",
    "           'ALTO PRADO BARRANQUILLA': 'http://172.26.133.16/webturnos/principal.htm',\n",
    "           'B/quilla Prado': 'http://172.26.162.16/webturnos/principal.htm',\n",
    "           'Madrid la Casona': 'http://172.26.135.16/webturnos/principal.htm',\n",
    "           'Av Libertador': 'http://172.26.154.18/webturnos/principal.htm',\n",
    "           'S/Marta Centro': 'http://172.26.153.18/webturnos/principal.htm',\n",
    "           'Nuevo prado': 'http://172.25.201.17/webturnos/principal.htm'\n",
    "    }"
   ]
  },
  {
   "cell_type": "code",
   "execution_count": 16,
   "metadata": {},
   "outputs": [],
   "source": [
    "paginas3 = {\n",
    "           'CHIA': 'http://172.26.143.16/webturnos/principal.htm',\n",
    "           ' C/gena El Prado': 'http://172.26.152.17/webturnos/principal.htm',\n",
    "           ' Santa Monica-Plazuela': 'http://172.26.151.16/webturnos/principal.htm',\n",
    "           'B/quilla calle 72': 'http://172.26.181.15/webturnos/principal.htm',\n",
    "          \n",
    "    }"
   ]
  },
  {
   "attachments": {},
   "cell_type": "markdown",
   "metadata": {},
   "source": [
    "Bahia, barranquilla san jose, barranquilla panorama, alto prado barranquilla, barranquilla prado  estan raros"
   ]
  },
  {
   "cell_type": "code",
   "execution_count": 17,
   "metadata": {},
   "outputs": [],
   "source": [
    "paginas = {'Punto Disp. Cafam Restrepo Bog.': 'http://172.25.76.16/webturnos/principal.htm',\n",
    "            'Drog. Cafam Floresta 24 Horas Bog.': 'http://172.19.209.34/webturnos/principal.htm',\n",
    "            'Punto Disp. Cafam Floresta': 'http://turnodriza/webturnos/principal.htm',\n",
    "            'Punto Disp Cafam Calle 51': 'http://172.20.40.17/webturnos/principal.htm',\n",
    "            'Punto Disp. Cafam Calle 48 Bog.': 'http://172.25.21.18/webturnos/principal.htm',\n",
    "            'Punto Disp. Cafam El Cable Mzales': 'http://172.26.59.17/webturnos/principal.htm',\n",
    "            'Punto Disp. Cafam Madrid': 'http://stwmedmadrid/webturnos/principal.htm',\n",
    "            'Punto de Dispensación Cafam Nuevo Kennedy': 'http://stwmedkennedy/webturnos/principal.htm',\n",
    "            'Punto Disp. Cafam San Rafael M/zales.': 'http://172.26.66.15/webturnos/principal.htm',\n",
    "            'Punto Disp. Cafam Centenario Bog.': 'http://172.25.97.16/webturnos/principal.htm',\n",
    "            'Punto Disp. Cafam Suba Fiesta Bog.': 'http://172.25.27.19/webturnos/principal.htm',\n",
    "            'Drog. Cafam Carrera 9 Zipa.': 'http://172.26.76.36/webturnos/principal.htm',\n",
    "            'Punto Disp. Cafam Barrios Unidos Bog.': 'http://172.26.6.16/webturnos/principal.htm',\n",
    "            'Drog. Cafam Bog. Surt. Ciudadela': 'http://digsuba/webturnos/principal.htm',\n",
    "            'Drog. Cafam Soacha Unisur': 'http://172.25.80.16/webturnos/principal.htm',\n",
    "            'Punto Disp. Cafam Nvo Prado B/quilla': 'http://172.25.201.17/webturnos/principal.htm',\n",
    "            'Punto Dispensación Cafam Chía': 'http://172.26.143.16/webturnos/principal.htm',\n",
    "            'Punto Disp. Cafam Centenario Bog Cra 26': 'http://172.26.187.16/webturnos/principal.htm',\n",
    "            'Punto Disp. Cafam El Lago.': 'http://172.26.88.45/webturnos/principal.htm',\n",
    "            'Punto Disp. Cafam Ubaté': 'http://172.25.51.253/webturnos/principal.htm',\n",
    "            'Punto Disp. Cafam Centro Manizales': 'http://172.25.47.17/webturnos/principal.htm',\n",
    "            'Punto Disp. Cafam Cucuta Caobos': 'http://172.26.159.16/webturnos/principal.htm',\n",
    "            'Punto Disp. Cafam Cúcuta Av Cero': 'http://172.26.180.18/webturnos/principal.htm',\n",
    "            'Punto. Dispen. CAFAM Bogotá Centro localidad': 'http://172.26.186.16/webturnos/principal.htm',\n",
    "            'Punto Disp. Cafam C/gena El Prado': 'http://172.26.152.17/webturnos/principal.htm',\n",
    "            'Punto Disp. Cafam B/quilla C.C. Bahia': 'http://172.26.145.225/webturnos/principal.htm',\n",
    "            'Punto Disp. Cafam C/gena Santa Monica-Plazuela': 'http://172.26.151.16/webturnos/principal.htm',\n",
    "            'Punto Disp. Cafam B/quilla Cll 72': 'http://172.26.181.15/webturnos/principal.htm',\n",
    "            'Punto Disp. Cafam MANGA': 'http://172.26.163.17/webturnos/principal.htm',\n",
    "            'BARRANQUILLA SAN JOSE': 'http://172.26.148.16/webturnos/principal.htm',\n",
    "            'Punto Disp. Cafam Bucaramanga San Alonso - Cabecera': 'http://172.26.158.16/webturnos/principal.htm',\n",
    "            'Barranquilla Centro Panorama': 'http://172.26.147.17/webturnos/principal.htm',\n",
    "            'Punto Disp Cafam Melgar.': 'http://172.27.126.15/webturnos/principal.htm',\n",
    "            'Punto Disp Alto Prado.': 'http://172.26.133.16/webturnos/principal.htm',\n",
    "            'Punto Disp. Barranquilla prado.': 'http://172.26.162.16/webturnos/principal.htm',\n",
    "            'Punto Disp Madrid la Casona': 'http://172.26.135.16/webturnos/principal.htm',\n",
    "            'Av Libertador': 'http://172.26.154.18/webturnos/principal.htm',\n",
    "            'Santa marta Centro': 'http://172.26.153.18/webturnos/principal.htm',\n",
    "            }\n"
   ]
  },
  {
   "cell_type": "code",
   "execution_count": 18,
   "metadata": {},
   "outputs": [],
   "source": [
    "nombre_puntos = list(paginas2.keys())\n",
    "links_puntos = list(paginas2.values())"
   ]
  },
  {
   "cell_type": "code",
   "execution_count": 19,
   "metadata": {},
   "outputs": [
    {
     "data": {
      "text/plain": [
       "38"
      ]
     },
     "execution_count": 19,
     "metadata": {},
     "output_type": "execute_result"
    }
   ],
   "source": [
    "len(nombre_puntos)"
   ]
  },
  {
   "cell_type": "code",
   "execution_count": null,
   "metadata": {},
   "outputs": [],
   "source": [
    "for i in range(len(nombre_puntos)):\n",
    "    try:\n",
    "        url = str(links_puntos[i])\n",
    "        driver.get(url)\n",
    "        time.sleep(1)\n",
    "        try:\n",
    "            driver.switch_to.frame(driver.find_element(\n",
    "                By.XPATH, \"/html/frameset/frameset/frame[3]\"))\n",
    "            login_user = driver.find_element(\n",
    "                By.ID, \"txtLogin\").send_keys(\"edgar\")\n",
    "            pass_user = driver.find_element(By.ID, \"txtClave\").send_keys(\"123\")\n",
    "            try:\n",
    "                oficina = driver.find_element(By.ID, \"txtOficina\").click()\n",
    "                time.sleep(1)\n",
    "                loggin = driver.find_element(\n",
    "                    By.XPATH, \"/html/body/form/table/tbody/tr[3]/td[2]\").click()\n",
    "                driver.switch_to.default_content()\n",
    "            except:\n",
    "                caja = driver.find_element(By.ID, \"txtCaja\").click()\n",
    "                time.sleep(1)\n",
    "                loggin = driver.find_element(\n",
    "                    By.XPATH, \"/html/body/form/table/tbody/tr[3]/td[2]\").click()\n",
    "                driver.switch_to.default_content()\n",
    "\n",
    "            try:\n",
    "                nombre_punto.append(nombre_puntos[i])\n",
    "                driver.switch_to.frame(driver.find_element(\n",
    "                    By.XPATH, \"/html/frameset/frameset/frame[1]\"))\n",
    "                estadistica = driver.find_element(\n",
    "                    By.XPATH, \"/html/body/table/tbody/tr[2]/td[2]/table/tbody/tr/td[1]/u\").click()\n",
    "                estadistico_servicio = driver.find_element(\n",
    "                    By.XPATH, \"/html/body/table/tbody/tr[2]/td[2]/table/tbody/tr/td[2]/div/table/tbody/tr[2]/td/a\").click()\n",
    "                driver.switch_to.default_content()\n",
    "                driver.switch_to.frame(driver.find_element(\n",
    "                    By.XPATH, \"/html/frameset/frameset/frame[3]\"))\n",
    "                hora_inicio = driver.find_element(By.ID, \"txtHoraInicial\")\n",
    "                hora_inicio.click()\n",
    "                hora_inicio.clear()\n",
    "                hora_inicio.send_keys(\"06:00\")\n",
    "                hora_final = driver.find_element(By.ID, \"txtHoraFinal\")\n",
    "                hora_final.click()\n",
    "                hora_final.clear()\n",
    "                hora_final.send_keys(\"09:30\")\n",
    "                buscar_digiturno = driver.find_element(\n",
    "                    By.XPATH, \"/html/body/form/table[3]/tbody/tr\")\n",
    "                buscar_digiturno.click()\n",
    "                time.sleep(3)\n",
    "                nombre_foto = f'{str(contador)} _ {str(fecha)}_{str(hora_actual)}'+'.png'\n",
    "                ruta = 'C:/Users/joaguerrero/Desktop/Digiturnos 10AM/Evidencia'\n",
    "                driver.save_screenshot(os.path.join(ruta,nombre_foto))\n",
    "                array.append(contador)\n",
    "                contador += 1\n",
    "                driver.switch_to.default_content()\n",
    "                driver.switch_to.frame(driver.find_element(\n",
    "                    By.XPATH, \"/html/frameset/frameset/frame[3]\"))\n",
    "            \n",
    "                try:\n",
    "                    tabla = driver.find_element(\n",
    "                        By.XPATH, \"/html/body/form/table[2]\")\n",
    "                    # Caja general\n",
    "                    try:\n",
    "                        info_tabla = tabla.text\n",
    "                        info_tabla\n",
    "                        pos_g = info_tabla.find('GENERAL')\n",
    "                        general = info_tabla[pos_g:]\n",
    "                        general = general.split()\n",
    "                        d_cg = general[5]\n",
    "                        d_cg = d_cg[1:]\n",
    "                        datos_caja_general.append(d_cg)\n",
    "                    except:\n",
    "                        d_cg = \"N/A\"\n",
    "                        datos_caja_general.append(d_cg)\n",
    "\n",
    "                    # Caja rapida\n",
    "                    try:\n",
    "                        info_tabla = tabla.text\n",
    "                        info_tabla\n",
    "                        pos_r = info_tabla.find('RAPIDA')\n",
    "                        rapida = info_tabla[pos_r:]\n",
    "                        rapida = rapida.split()\n",
    "                        d_cr = rapida[5]\n",
    "                        d_cr = d_cr[1:]\n",
    "                        datos_caja_rapida.append(d_cr)\n",
    "                    except:\n",
    "                        d_cr = \"N/A\"\n",
    "                        datos_caja_rapida.append(d_cr)\n",
    "\n",
    "                    # Caja preferencial\n",
    "                    try:\n",
    "                        try:\n",
    "                            info_tabla = tabla.text\n",
    "                            pos_p = info_tabla.find('PREFERENCIAL')\n",
    "                            preferencial = info_tabla[pos_p:]\n",
    "                            preferencial = preferencial.split()\n",
    "                            d_cp = preferencial[5]\n",
    "                            datos_caja_preferencial.append(d_cp)\n",
    "                        except:\n",
    "                            info_tabla = tabla.text\n",
    "                            pos_p = info_tabla.find('PREFENCIAL')\n",
    "                            preferencial = info_tabla[pos_p:]\n",
    "                            preferencial = preferencial.split()\n",
    "                            d_cp = preferencial[5]\n",
    "                            d_cp = d_cp[1:]\n",
    "                            datos_caja_preferencial.append(d_cp)\n",
    "                    except:\n",
    "                        d_cp = \"N/A\"\n",
    "                        datos_caja_preferencial.append(d_cp)\n",
    "                except:\n",
    "                    pass\n",
    "\n",
    "                try:\n",
    "                    info = driver.find_element(\n",
    "                        By.XPATH, \"/html/body/form/table[4]/tbody\")\n",
    "                    text_data = info.text\n",
    "                    pos = text_data.find('Total Servicios')\n",
    "                    new_data = text_data[pos:]\n",
    "                    new_data = new_data.split()\n",
    "                    numero = new_data[2]\n",
    "                    t_espera = new_data[3]\n",
    "                    t_espera = t_espera[1:]\n",
    "                    t_atencion = new_data[4]\n",
    "                    t_atencion = t_atencion[1:]\n",
    "                    atencion.append(numero)\n",
    "                    pro_espera.append(t_espera)\n",
    "                    pro_atencion.append(t_atencion)\n",
    "                except:\n",
    "                    pass\n",
    "\n",
    "            except:\n",
    "                datos_caja_rapida.append(\"N/A\")\n",
    "                datos_caja_preferencial.append(\"N/A\")\n",
    "                datos_caja_general.append(\"N/A\")\n",
    "                atencion.append(\"0\")\n",
    "                pro_espera.append(\"N/A\")\n",
    "                pro_atencion.append(\"N/A\")\n",
    "                print(f'No se pudo acceder al punto {str(nombre_puntos[i])}')\n",
    "                array.append('N/A')\n",
    "                pass\n",
    "             \n",
    "        except:\n",
    "            print(\n",
    "                f'No se pudo acceder al aplicativo2 de {str(nombre_puntos[i])}')\n",
    "    except:\n",
    "        print(f'No se pudo acceder al aplicativo de {str(nombre_puntos[i])}')\n"
   ]
  },
  {
   "cell_type": "code",
   "execution_count": null,
   "metadata": {},
   "outputs": [],
   "source": [
    "driver.close()"
   ]
  },
  {
   "cell_type": "code",
   "execution_count": null,
   "metadata": {},
   "outputs": [],
   "source": [
    "len(nombre_punto)"
   ]
  },
  {
   "cell_type": "code",
   "execution_count": null,
   "metadata": {},
   "outputs": [],
   "source": [
    "len(array)"
   ]
  },
  {
   "cell_type": "code",
   "execution_count": null,
   "metadata": {},
   "outputs": [],
   "source": [
    "len(datos_caja_rapida)"
   ]
  },
  {
   "cell_type": "code",
   "execution_count": null,
   "metadata": {},
   "outputs": [],
   "source": [
    "atencion = list(map(int,atencion))"
   ]
  },
  {
   "cell_type": "code",
   "execution_count": null,
   "metadata": {},
   "outputs": [],
   "source": [
    "df = pd.DataFrame({'Nombre punto': nombre_punto, 'Aten.': atencion, 'Pro.de Espera': pro_espera, 'Pro.Atención': pro_atencion,\n",
    "                   'Datos Caja General': datos_caja_general, 'Datos Caja Rapida': datos_caja_rapida, 'Datos Caja Preferencial': datos_caja_preferencial})\n"
   ]
  },
  {
   "cell_type": "code",
   "execution_count": null,
   "metadata": {},
   "outputs": [],
   "source": [
    "df['Indice foto']=array"
   ]
  },
  {
   "cell_type": "code",
   "execution_count": null,
   "metadata": {},
   "outputs": [],
   "source": [
    "df"
   ]
  },
  {
   "cell_type": "code",
   "execution_count": null,
   "metadata": {},
   "outputs": [],
   "source": [
    "from datetime import datetime\n",
    "fecha = datetime.today().strftime('%d-%m-%y')\n",
    "fecha\n",
    "df.to_excel(f'Puntos Digiturnos '+str(fecha) +\n",
    "            '.xlsx', sheet_name=\"Digiturnos\", index=0)\n"
   ]
  }
 ],
 "metadata": {
  "kernelspec": {
   "display_name": "Python 3",
   "language": "python",
   "name": "python3"
  },
  "language_info": {
   "codemirror_mode": {
    "name": "ipython",
    "version": 3
   },
   "file_extension": ".py",
   "mimetype": "text/x-python",
   "name": "python",
   "nbconvert_exporter": "python",
   "pygments_lexer": "ipython3",
   "version": "3.10.10"
  },
  "orig_nbformat": 4,
  "vscode": {
   "interpreter": {
    "hash": "37b0de9c3b9e8ef45e4094f9ff8b206136ac79f99c8db7a4fb2e17dce0a68f87"
   }
  }
 },
 "nbformat": 4,
 "nbformat_minor": 2
}
